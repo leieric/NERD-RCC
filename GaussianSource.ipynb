{
 "cells": [
  {
   "cell_type": "code",
   "execution_count": 1,
   "id": "88ed30b3-5e80-40f7-997f-5d39e3096480",
   "metadata": {},
   "outputs": [],
   "source": [
    "%load_ext autoreload\n",
    "%autoreload 2"
   ]
  },
  {
   "cell_type": "code",
   "execution_count": 2,
   "id": "34a0f64d-c692-49cd-8db7-ff7f361ee84e",
   "metadata": {},
   "outputs": [],
   "source": [
    "import numpy as np\n",
    "import matplotlib.pyplot as plt\n",
    "import bisection\n",
    "from joblib import Parallel, delayed\n",
    "import scipy.spatial\n",
    "import huffman\n",
    "import GaussianSource as GS\n",
    "import torch\n",
    "from rd_primal_minmax_gaussian_bisection import GenRD, GaussianDataset\n",
    "import torchvision\n",
    "import torchvision.transforms as transforms\n",
    "from torchvision.datasets import FashionMNIST,MNIST, CIFAR10\n",
    "from torch.utils.data import DataLoader\n",
    "\n",
    "device = 'cuda:3' if torch.cuda.is_available() else 'cpu'"
   ]
  },
  {
   "cell_type": "code",
   "execution_count": 3,
   "id": "2ea0687c-43d0-45ea-b5da-425ebaa50998",
   "metadata": {},
   "outputs": [],
   "source": [
    "from cycler import cycler\n",
    "plt.rcParams['axes.prop_cycle'] = cycler(color='bgrcmyk')\n",
    "plt.rcParams.update({'font.size': 16})\n",
    "plt.rcParams.update({'lines.linewidth':1.25})\n",
    "plt.rcParams['legend.fancybox'] = False\n",
    "plt.rcParams['legend.framealpha'] = None\n",
    "plt.rcParams['legend.edgecolor'] = 'inherit'\n",
    "plt.rcParams['mathtext.fontset'] = 'cm'\n",
    "plt.rcParams['mathtext.rm'] = 'serif'\n",
    "plt.rcParams[\"font.family\"] = \"serif\""
   ]
  },
  {
   "cell_type": "code",
   "execution_count": 4,
   "id": "0736f2fc-6554-4a13-9743-6e0729216dcc",
   "metadata": {},
   "outputs": [],
   "source": [
    "m = 20\n",
    "r = 0.25\n",
    "sigmas = 2*np.exp(-r*np.arange(m))\n",
    "\n",
    "# m = 1024\n",
    "# r = 0.025\n",
    "# sigmas = 2*np.exp(-r*np.arange(m))\n"
   ]
  },
  {
   "cell_type": "code",
   "execution_count": null,
   "id": "4c253e43-b390-44c5-a2e6-31cd2d1a9093",
   "metadata": {},
   "outputs": [],
   "source": [
    "GS.rd_gaussian(6, sigmas)*np.log(2)"
   ]
  },
  {
   "cell_type": "code",
   "execution_count": 5,
   "id": "c5bd299c-7812-4c62-9ba8-48f4e2099bb2",
   "metadata": {},
   "outputs": [],
   "source": [
    "D_max =sum(sigmas**2)\n",
    "DD = np.geomspace(0.01, 1.1*D_max, 100)\n",
    "RR = []\n",
    "for D in DD:\n",
    "    RR.append(GS.rd_gaussian(D, sigmas))\n",
    "DD = np.array(DD)\n",
    "RR = np.array(RR)"
   ]
  },
  {
   "cell_type": "code",
   "execution_count": 6,
   "id": "f8ac1889-b5c0-4c95-84d0-07dfc63d6497",
   "metadata": {},
   "outputs": [
    {
     "name": "stdout",
     "output_type": "stream",
     "text": [
      "10.5936 finished\n",
      "11.1821 finished\n",
      "9.4166 finished\n",
      "8.8282 finished\n",
      "10.0051 finished\n",
      "7.6512 finished\n",
      "8.2397 finished\n",
      "7.0627 finished\n",
      "5.2973 finished\n",
      "6.4742 finished\n",
      "5.8858 finished\n",
      "4.1203 finished\n",
      "4.7088 finished\n",
      "2.9434 finished\n",
      "3.5319 finished\n",
      "1.7664 finished\n",
      "2.3549 finished\n",
      "1.1780 finished\n",
      "0.5895 finished\n",
      "0.0010 finished\n",
      "10.5936 finished\n",
      "11.1821 finished\n",
      "8.8282 finished\n",
      "10.0051 finished\n",
      "9.4166 finished\n",
      "7.6512 finished\n",
      "8.2397 finished\n",
      "7.0627 finished\n",
      "6.4742 finished\n",
      "5.8858 finished\n",
      "5.2973 finished\n",
      "4.7088 finished\n",
      "4.1203 finished\n",
      "3.5319 finished\n",
      "2.9434 finished\n",
      "2.3549 finished\n",
      "1.7664 finished\n",
      "1.1780 finished\n",
      "0.5895 finished\n",
      "0.0010 finished\n"
     ]
    }
   ],
   "source": [
    "# sigmas = np.exp(-0.25*np.arange(m))\n",
    "# sigmas = np.ones(m)\n",
    "RR_PFR = []\n",
    "DD_PFR = []\n",
    "sweep = np.linspace(0.001, 1.1*D_max, 20)\n",
    "N = 500000\n",
    "rd_PFR = np.array(Parallel(n_jobs=-1)(delayed(GS.RD_PFR_block)(D, sigmas, N, method='PFR') for D in sweep))\n",
    "\n",
    "RR_ORC = []\n",
    "DD_ORC = []\n",
    "sweep = np.linspace(0.001, 1.1*D_max, 20)\n",
    "N = 500000\n",
    "rd_ORC = np.array(Parallel(n_jobs=-1)(delayed(GS.RD_PFR_block)(D, sigmas, N, method='ORC') for D in sweep))"
   ]
  },
  {
   "cell_type": "code",
   "execution_count": 18,
   "id": "a4d0a8a5-05d1-4119-af90-20b0b2ffad31",
   "metadata": {},
   "outputs": [],
   "source": [
    "# r = 0.25\n",
    "RR_DNN = np.array([ 2, 4.     ,  6.     ,  8.     , 12.     , 14.33985, 18.     ])\n",
    "dists_DNN = np.array([6.80288408, 4.62322701, 4.03686346, 2.43354822, 1.75967654,\n",
    "       1.58059808, 0.93856596])\n",
    "\n",
    "#r = 0.05\n",
    "# RR_DNN = np.array([30.,  20.,  24.,  16.,   12.,  8.])\n",
    "# dists_DNN = np.array([11.22884653,  12.90090699,  14.39782373,\n",
    "#         15.90634339,   22.7901304 ,\n",
    "#        23.980158  ])"
   ]
  },
  {
   "cell_type": "code",
   "execution_count": 10,
   "id": "37f185dd-12e7-4f7d-ae90-1ebbfd2a18b6",
   "metadata": {},
   "outputs": [
    {
     "name": "stdout",
     "output_type": "stream",
     "text": [
      "r=0.2422, d_alt=9.0000, d=9.0000, beta=-0.1691\n",
      "r=0.5390, d_alt=8.0000, d=8.0000, beta=-0.2296\n",
      "r=0.9230, d_alt=7.0000, d=7.0000, beta=-0.3018\n",
      "r=1.4345, d_alt=6.0000, d=6.0000, beta=-0.4009\n",
      "r=2.1092, d_alt=5.0000, d=5.0000, beta=-0.5448\n",
      "r=3.0432, d_alt=4.0000, d=4.0000, beta=-0.7595\n",
      "r=4.4105, d_alt=3.0000, d=3.0000, beta=-1.1550\n",
      "r=6.6652, d_alt=2.0000, d=2.0000, beta=-2.0425\n",
      "r=8.5403, d_alt=1.5031, d=1.5000, beta=-3.4203\n",
      "r=13.1134, d_alt=1.1028, d=1.0000, beta=-8.9471\n"
     ]
    }
   ],
   "source": [
    "#NERD\n",
    "trainset = GaussianDataset(n_samples=30000, m=m, r=r)\n",
    "loader = torch.utils.data.DataLoader(trainset, batch_size=30000,\n",
    "                                              shuffle=True, num_workers=2, pin_memory=True)\n",
    "\n",
    "DD_ = [9,8,7,6,5,4,3,2,1.5,1]\n",
    "# DD_ = [70, 60, 50, 40, 30, 20, 15, 10]\n",
    "# DD_.reverse()\n",
    "# DD_ = np.array(DD_)*10\n",
    "rates_true_rd = []\n",
    "dists_true_rd = []\n",
    "for D in DD_:\n",
    "    # eps = 1e-10 if D in [1, 1.5] else 1e-20\n",
    "    eps = 1e-14\n",
    "    model = GenRD(latent_dim=m, D=D, eps=eps)\n",
    "    checkpoint = torch.load(f'trained_gaussian/trained_genRD_minmax_gaussian/GenRD_trained_genRD_minmax_gaussian_D{D:.3f}.pt')\n",
    "    model.load_state_dict(checkpoint)\n",
    "    model.to(device)\n",
    "    # eps = 1e-20 if D == 1 else 1e-20\n",
    "    r, d, beta = calc_RD(loader, model, D, eps=1e-30) \n",
    "    print(f'r={r:.4f}, d_alt={d:.4f}, d={D:.4f}, beta={beta:.4f}')\n",
    "    rates_true_rd.append(r)\n",
    "    dists_true_rd.append(d)"
   ]
  },
  {
   "cell_type": "code",
   "execution_count": 81,
   "id": "1436cb7c-8f8d-4f99-9763-840ba1d9151b",
   "metadata": {},
   "outputs": [
    {
     "data": {
      "text/plain": [
       "7.357744708533713"
      ]
     },
     "execution_count": 81,
     "metadata": {},
     "output_type": "execute_result"
    }
   ],
   "source": [
    "5.1/np.log(2)"
   ]
  },
  {
   "cell_type": "code",
   "execution_count": 11,
   "id": "3e62b5ee-492c-4fe1-a550-3b23d3aa3fe6",
   "metadata": {},
   "outputs": [],
   "source": [
    "from scipy.stats import ortho_group\n",
    "np.random.seed(seed=233423)\n",
    "U = ortho_group.rvs(m)"
   ]
  },
  {
   "cell_type": "code",
   "execution_count": 95,
   "id": "17c42711-161d-47b0-b777-fe722a475cbc",
   "metadata": {},
   "outputs": [
    {
     "data": {
      "text/plain": [
       "3.269301444873266"
      ]
     },
     "execution_count": 95,
     "metadata": {},
     "output_type": "execute_result"
    }
   ],
   "source": [
    "GS.rd_gaussian(70, sigmas)"
   ]
  },
  {
   "cell_type": "code",
   "execution_count": 31,
   "id": "802d1224-bb98-4582-bf84-c61d4bb40f3e",
   "metadata": {},
   "outputs": [
    {
     "data": {
      "image/png": "[encoded data removed]",
      "text/plain": [
       "<Figure size 432x288 with 1 Axes>"
      ]
     },
     "metadata": {
      "needs_background": "light"
     },
     "output_type": "display_data"
    }
   ],
   "source": [
    "plt.figure(1, constrained_layout=True)\n",
    "plt.plot(DD, RR, '-', color='g', linewidth=2, label=r'$R(D)$')\n",
    "# plt.plot(DD_, rates_true_rd, 'o', color='k', label=r'$\\widehat{R_\\Theta(D)}_n$', fillstyle='none')\n",
    "plt.plot(DD, RR+np.log2(RR+1)+5, '--', color='k', linewidth=2, label=r'$R(D)+\\log(R(D)+1)+5$')\n",
    "plt.plot(dists_DNN, RR_DNN, '-o', color='r', label='DNN Compressor')\n",
    "plt.plot(rd_PFR[:,1], rd_PFR[:,0], 'o', color='b', label='PFR Zipf Huffman')\n",
    "plt.plot(rd_ORC[:,1], rd_ORC[:,0], 'o', color='c', label='ORC Zipf Huffman')\n",
    "# plt.plot()\n",
    "# plt.axvline(sum(sigmas**2),  **{'linestyle':'--', 'color': 'm'}, linewidth=2)\n",
    "plt.xlabel('$D$')\n",
    "plt.ylabel('$R$')\n",
    "plt.grid(linestyle='dashed')\n",
    "plt.legend(fontsize=14)\n",
    "plt.xlim([-0.3, 11])\n",
    "plt.ylim([0, 20])\n",
    "# plt.plot(DD, R)\n",
    "# plt.savefig('plots/gaussian_NERD2.pdf')\n",
    "plt.savefig('plots/gaussian_m20_r.25.pdf')"
   ]
  },
  {
   "cell_type": "code",
   "execution_count": 7,
   "id": "e5ce790d-b9c7-4323-8c8a-bbb205a4c6ce",
   "metadata": {},
   "outputs": [],
   "source": [
    "def calc_RD(loader, model, D, eps=1e-14):\n",
    "    Rate = 0\n",
    "    Dist = 0\n",
    "    model.to(device)\n",
    "    with torch.no_grad():\n",
    "        for x in loader:\n",
    "            x = x.to(device)\n",
    "            z = torch.randn(x.shape[0], model.latent_dim).to(device)\n",
    "            y = model.generator(z).to(device)\n",
    "#             print(x.device, y.device)\n",
    "            dist_mat = model._squared_distances(x,y)\n",
    "            # print('hello')\n",
    "            beta = model.inner_max(dist_mat)\n",
    "            # print('hello2')\n",
    "            # print(beta)\n",
    "            # eps = 1e-20#1e-14 # 1e-10 for FMNIST, 1e-14 for MNIST\n",
    "            C = torch.exp(beta*dist_mat)\n",
    "            mean_z = torch.mean(C, dim=1)\n",
    "            # I = (mean_z > eps)\n",
    "            R = beta*D - torch.mean(torch.log(mean_z+eps))\n",
    "            # D = torch.mean(C*torch.exp(beta*C) / (torch.mean(torch.exp(beta*C), dim=1)[:,None])+1e-14)\n",
    "            # D = torch.mean(C*torch.exp(beta*C) / ((mean_z+eps)[:,None]))\n",
    "            \n",
    "            # denom_x = torch.mean(torch.exp(beta*dist_mat), dim=1) + eps\n",
    "            # f_xy = dist_mat*torch.exp(beta*dist_mat) / denom_x[:,None]\n",
    "            # D = torch.mean(f_xy)\n",
    "            \n",
    "            denom_x = torch.mean(torch.exp(beta*dist_mat), dim=1) \n",
    "            log_f_xy = torch.log(dist_mat)+beta*dist_mat-torch.log(denom_x[:,None] + eps)\n",
    "            D = torch.mean(torch.exp(log_f_xy))\n",
    "        \n",
    "            Rate += R.item()\n",
    "            Dist += D.item()\n",
    "    return (Rate/np.log(2))/len(loader), Dist/len(loader), beta\n",
    "\n",
    "def calc_RD2(loader, model, D, eps=1e-14):\n",
    "    Rate = 0\n",
    "    Dist = 0\n",
    "    model.to(device)\n",
    "    with torch.no_grad():\n",
    "        for x in loader:\n",
    "            x = x.to(device)\n",
    "            z = torch.randn(x.shape[0], model.latent_dim).to(device)\n",
    "            y = model.generator(z).to(device)\n",
    "#             print(x.device, y.device)\n",
    "            dist_mat = model._squared_distances(x,y)\n",
    "            beta = model.inner_max(dist_mat)\n",
    "            # print(beta)\n",
    "            # eps = 1e-20#1e-14 # 1e-10 for FMNIST, 1e-14 for MNIST\n",
    "            C = torch.exp(beta*dist_mat)\n",
    "            mean_z = torch.mean(C, dim=1)\n",
    "            # I = (mean_z > eps)\n",
    "            mean_z[mean_z < eps] = eps\n",
    "            R = beta*D - torch.mean(torch.log(mean_z))\n",
    "            # D = torch.mean(C*torch.exp(beta*C) / (torch.mean(torch.exp(beta*C), dim=1)[:,None])+1e-14)\n",
    "            # D = torch.mean(C*torch.exp(beta*C) / ((mean_z+eps)[:,None]))\n",
    "            \n",
    "            denom_x = torch.mean(torch.exp(beta*dist_mat), dim=1) \n",
    "            denom_x[denom_x < eps] = eps\n",
    "            f_xy = dist_mat*torch.exp(beta*dist_mat) / denom_x[:,None]\n",
    "            D = torch.mean(f_xy)\n",
    "            \n",
    "            Rate += R.item()\n",
    "            Dist += D.item()\n",
    "    return (Rate/np.log(2))/len(loader), Dist/len(loader), beta"
   ]
  },
  {
   "cell_type": "code",
   "execution_count": 98,
   "id": "dbd0f2aa-f870-46c6-b566-aca822e2078b",
   "metadata": {},
   "outputs": [],
   "source": [
    "sweep = np.linspace(0.7, 1.3, 50)\n",
    "RR = []\n",
    "DD = []\n",
    "for lam in sweep:\n",
    "    ent, dist, _, _ = GS.lloyd_max_ent(5, 0.5, lam)\n",
    "    RR.append(ent)\n",
    "    DD.append(dist)"
   ]
  },
  {
   "cell_type": "code",
   "execution_count": 104,
   "id": "c3bbc5a1-f351-4781-81eb-771db3141ff2",
   "metadata": {},
   "outputs": [
    {
     "data": {
      "image/png": "[encoded data removed]",
      "text/plain": [
       "<Figure size 432x288 with 1 Axes>"
      ]
     },
     "metadata": {
      "needs_background": "light"
     },
     "output_type": "display_data"
    }
   ],
   "source": [
    "plt.plot(DD, RR)\n",
    "plt.grid()"
   ]
  }
 ],
 "metadata": {
  "kernelspec": {
   "display_name": "Python 3 (ipykernel)",
   "language": "python",
   "name": "python3"
  },
  "language_info": {
   "codemirror_mode": {
    "name": "ipython",
    "version": 3
   },
   "file_extension": ".py",
   "mimetype": "text/x-python",
   "name": "python",
   "nbconvert_exporter": "python",
   "pygments_lexer": "ipython3",
   "version": "3.9.10"
  }
 },
 "nbformat": 4,
 "nbformat_minor": 5
}
